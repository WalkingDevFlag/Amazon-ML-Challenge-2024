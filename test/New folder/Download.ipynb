{
 "cells": [
  {
   "cell_type": "code",
   "execution_count": 3,
   "id": "1a40fcc2-6bb8-4b10-9f9e-6c261f52f353",
   "metadata": {},
   "outputs": [],
   "source": [
    "import pandas as pd\n",
    "import os\n",
    "import requests\n",
    "from concurrent.futures import ThreadPoolExecutor\n",
    "from urllib.parse import urlparse\n",
    "from tqdm import tqdm"
   ]
  },
  {
   "cell_type": "code",
   "execution_count": 4,
   "id": "ef3e5105-2c37-4910-9d17-944f8d040c02",
   "metadata": {},
   "outputs": [],
   "source": [
    "# Function to download an image from a link and save it\n",
    "def download_image(row, folder_path):\n",
    "    image_url = row['image_link']\n",
    "    entity_name = row['entity_name']\n",
    "    \n",
    "    # Parse the image name from the URL\n",
    "    image_name = os.path.basename(urlparse(image_url).path)\n",
    "    \n",
    "    # Create the filename in the format image_name_entity_name\n",
    "    file_name = f\"{os.path.splitext(image_name)[0]}_{entity_name}{os.path.splitext(image_name)[1]}\"\n",
    "    \n",
    "    # Full path to save the image\n",
    "    save_path = os.path.join(folder_path, file_name)\n",
    "    \n",
    "    try:\n",
    "        # Download the image\n",
    "        response = requests.get(image_url, stream=True)\n",
    "        if response.status_code == 200:\n",
    "            with open(save_path, 'wb') as img_file:\n",
    "                for chunk in response.iter_content(1024):\n",
    "                    img_file.write(chunk)\n",
    "        else:\n",
    "            print(f\"Failed to download {image_url}\")\n",
    "    except Exception as e:\n",
    "        print(f\"Error downloading {image_url}: {e}\")"
   ]
  },
  {
   "cell_type": "code",
   "execution_count": 5,
   "id": "a01295e8-4d87-4f85-8178-64840ec82e5c",
   "metadata": {},
   "outputs": [],
   "source": [
    "# Main function to read the CSV and start downloading images\n",
    "def download_images_from_csv(csv_file, folder_path, num_threads=10):\n",
    "    # Load the CSV file\n",
    "    df = pd.read_csv(csv_file)\n",
    "    \n",
    "    # Ensure the folder exists\n",
    "    if not os.path.exists(folder_path):\n",
    "        os.makedirs(folder_path)\n",
    "\n",
    "    # Use ThreadPoolExecutor to download images concurrently\n",
    "    with ThreadPoolExecutor(max_workers=num_threads) as executor:\n",
    "        # Use tqdm to display a progress bar\n",
    "        list(tqdm(executor.map(lambda row: download_image(row, folder_path), [row for _, row in df.iterrows()]), total=len(df)))"
   ]
  },
  {
   "cell_type": "code",
   "execution_count": null,
   "id": "1f663639-f1a0-4aae-8606-ffcf4bf51d3b",
   "metadata": {},
   "outputs": [
    {
     "name": "stderr",
     "output_type": "stream",
     "text": [
      "  0%|                                                                          | 360/263859 [01:06<11:45:51,  6.22it/s]"
     ]
    },
    {
     "name": "stdout",
     "output_type": "stream",
     "text": [
      "Failed to download https://m.media-amazon.com/images/I/1yw53vfQtS.jpg\n"
     ]
    },
    {
     "name": "stderr",
     "output_type": "stream",
     "text": [
      "  1%|▍                                                                       | 1440/263859 [05:00<292:01:53,  4.01s/it]"
     ]
    },
    {
     "name": "stdout",
     "output_type": "stream",
     "text": [
      "Failed to download https://m.media-amazon.com/images/I/DzP2RMRQO0.jpg\n",
      "Error downloading https://m.media-amazon.com/images/I/71t2sNVC+1L.jpg: ('Connection aborted.', RemoteDisconnected('Remote end closed connection without response'))\n",
      "Failed to download https://m.media-amazon.com/images/I/lwd2cSmT2ux.jpg\n",
      "Failed to download https://m.media-amazon.com/images/I/VCEdbX8DT28.jpg\n",
      "Failed to download https://m.media-amazon.com/images/I/J2DXsUjR8ay.jpg\n",
      "Error downloading https://m.media-amazon.com/images/I/81Tu6FYslZL.jpg: ('Connection aborted.', TimeoutError(10060, 'A connection attempt failed because the connected party did not properly respond after a period of time, or established connection failed because connected host has failed to respond', None, 10060, None))\n",
      "Error downloading https://m.media-amazon.com/images/I/81cFH-eOP4L.jpg: ('Connection aborted.', TimeoutError(10060, 'A connection attempt failed because the connected party did not properly respond after a period of time, or established connection failed because connected host has failed to respond', None, 10060, None))\n",
      "Failed to download https://m.media-amazon.com/images/I/RBE3EPzT4OZ.jpg\n",
      "Failed to download https://m.media-amazon.com/images/I/fUyC7fnSnys.jpg\n",
      "Failed to download https://m.media-amazon.com/images/I/9BIu8SYSAek.jpg\n",
      "Failed to download https://m.media-amazon.com/images/I/T8hQGdjTcGp.jpg\n",
      "Error downloading https://m.media-amazon.com/images/I/61NDwu24C0L.jpg: ('Connection aborted.', TimeoutError(10060, 'A connection attempt failed because the connected party did not properly respond after a period of time, or established connection failed because connected host has failed to respond', None, 10060, None))\n",
      "Error downloading https://m.media-amazon.com/images/I/510lOSZAD+L.jpg: ('Connection aborted.', TimeoutError(10060, 'A connection attempt failed because the connected party did not properly respond after a period of time, or established connection failed because connected host has failed to respond', None, 10060, None))\n",
      "Error downloading https://m.media-amazon.com/images/I/71Q5RkGSffL.jpg: ('Connection aborted.', TimeoutError(10060, 'A connection attempt failed because the connected party did not properly respond after a period of time, or established connection failed because connected host has failed to respond', None, 10060, None))\n",
      "Failed to download https://m.media-amazon.com/images/I/mWyQ79S76i.jpg\n",
      "Failed to download https://m.media-amazon.com/images/I/H8fMd0pRI6n.jpg\n",
      "Failed to download https://m.media-amazon.com/images/I/VjCkaPeR1o.jpg\n",
      "Error downloading https://m.media-amazon.com/images/I/71l3wCRGgpL.jpg: ('Connection aborted.', RemoteDisconnected('Remote end closed connection without response'))\n",
      "Failed to download https://m.media-amazon.com/images/I/l8BsJVaKRCe.jpg\n",
      "Failed to download https://m.media-amazon.com/images/I/PBWKX4CRl2o.jpg\n",
      "Failed to download https://m.media-amazon.com/images/I/3sSrJnc5R58.jpg\n",
      "Failed to download https://m.media-amazon.com/images/I/caDEyEaRMCm.jpg\n",
      "Failed to download https://m.media-amazon.com/images/I/VRs4UBsSHaM.jpg\n",
      "Failed to download https://m.media-amazon.com/images/I/BEJwJEFSTSp.jpg\n",
      "Error downloading https://m.media-amazon.com/images/I/51iNXHxDehL.jpg: ('Connection aborted.', TimeoutError(10060, 'A connection attempt failed because the connected party did not properly respond after a period of time, or established connection failed because connected host has failed to respond', None, 10060, None))\n",
      "Error downloading https://m.media-amazon.com/images/I/61CjlytpK5L.jpg: ('Connection aborted.', TimeoutError(10060, 'A connection attempt failed because the connected party did not properly respond after a period of time, or established connection failed because connected host has failed to respond', None, 10060, None))\n",
      "Error downloading https://m.media-amazon.com/images/I/617AftQMBvS.jpg: ('Connection aborted.', TimeoutError(10060, 'A connection attempt failed because the connected party did not properly respond after a period of time, or established connection failed because connected host has failed to respond', None, 10060, None))\n",
      "Error downloading https://m.media-amazon.com/images/I/51gEuBeicvL.jpg: ('Connection aborted.', TimeoutError(10060, 'A connection attempt failed because the connected party did not properly respond after a period of time, or established connection failed because connected host has failed to respond', None, 10060, None))\n",
      "Error downloading https://m.media-amazon.com/images/I/61+wzGacwoL.jpg: ('Connection aborted.', TimeoutError(10060, 'A connection attempt failed because the connected party did not properly respond after a period of time, or established connection failed because connected host has failed to respond', None, 10060, None))\n"
     ]
    }
   ],
   "source": [
    "if __name__ == \"__main__\":\n",
    "    # Path to your CSV file\n",
    "    csv_file = r\"E:/Random Python Scripts/Amazon ML Challenge/Dataset/train.csv\"\n",
    "    \n",
    "    # Folder to save the images\n",
    "    folder_path = r'F:/Amazon ML Challlenge'\n",
    "    \n",
    "    # Download images using multithreading\n",
    "    download_images_from_csv(csv_file, folder_path, num_threads=16)  # Adjust num_threads as needed"
   ]
  }
 ],
 "metadata": {
  "kernelspec": {
   "display_name": "data_env",
   "language": "python",
   "name": "data_env"
  },
  "language_info": {
   "codemirror_mode": {
    "name": "ipython",
    "version": 3
   },
   "file_extension": ".py",
   "mimetype": "text/x-python",
   "name": "python",
   "nbconvert_exporter": "python",
   "pygments_lexer": "ipython3",
   "version": "3.9.19"
  }
 },
 "nbformat": 4,
 "nbformat_minor": 5
}
